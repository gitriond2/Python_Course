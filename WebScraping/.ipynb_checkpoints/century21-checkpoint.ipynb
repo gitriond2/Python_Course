{
 "cells": [
  {
   "cell_type": "code",
   "execution_count": 5,
   "id": "202be9e4-2cce-40fa-a4ff-76fc35b3978d",
   "metadata": {},
   "outputs": [],
   "source": [
    "import requests\n",
    "from bs4 import BeautifulSoup"
   ]
  },
  {
   "cell_type": "code",
   "execution_count": 6,
   "id": "31651c16-651d-48d9-96e5-c08b80cfa73f",
   "metadata": {},
   "outputs": [],
   "source": [
    "r=requests.get(\"https://www.century21.com/real-estate/rock-springs-wy/LCWYROCKSPRINGS/\")\n",
    "c=r.content"
   ]
  },
  {
   "cell_type": "code",
   "execution_count": 7,
   "id": "c0e9a79b-895e-4294-92ca-3530edecbad2",
   "metadata": {},
   "outputs": [],
   "source": [
    "#c"
   ]
  },
  {
   "cell_type": "code",
   "execution_count": 8,
   "id": "fa0fc913-bf52-4c7b-804d-c115a9687fed",
   "metadata": {},
   "outputs": [],
   "source": [
    "soup=BeautifulSoup(c,\"html.parser\")\n",
    "#print(soup.prettify())"
   ]
  },
  {
   "cell_type": "code",
   "execution_count": 9,
   "id": "7346034e-4198-4da1-b0e5-7568e7b4aabb",
   "metadata": {},
   "outputs": [
    {
     "data": {
      "text/plain": [
       "bs4.element.ResultSet"
      ]
     },
     "execution_count": 9,
     "metadata": {},
     "output_type": "execute_result"
    }
   ],
   "source": [
    "all=soup.find_all(\"div\",{\"class\":\"col\"})\n",
    "type(all)"
   ]
  },
  {
   "cell_type": "code",
   "execution_count": 9,
   "id": "d94671e6-447a-4688-b53f-bfeb6b98caae",
   "metadata": {},
   "outputs": [
    {
     "data": {
      "text/plain": [
       "8"
      ]
     },
     "execution_count": 9,
     "metadata": {},
     "output_type": "execute_result"
    }
   ],
   "source": [
    "len(all)"
   ]
  },
  {
   "cell_type": "code",
   "execution_count": 10,
   "id": "a593cc99-8d7d-4e60-881a-07bea2c9cf6d",
   "metadata": {},
   "outputs": [
    {
     "data": {
      "text/plain": [
       "<span class=\"badge rounded-pill text-bg-light bg-digital-dark-gold-light-tint ms-1\">\n",
       "<span class=\"currency\">$</span>2,160,000\n",
       "                                                    </span>"
      ]
     },
     "execution_count": 10,
     "metadata": {},
     "output_type": "execute_result"
    }
   ],
   "source": [
    "#all[0].find_all(\"h4\",{\"class\":\"col\"})\n",
    "all=soup.find_all(\"span\",{\"class\":\"badge\"})\n",
    "all[0]"
   ]
  },
  {
   "cell_type": "code",
   "execution_count": 37,
   "id": "8a703435-b829-4617-b653-9388d3a23d18",
   "metadata": {},
   "outputs": [
    {
     "data": {
      "text/plain": [
       "'\\n$2,160,000\\n                                                    '"
      ]
     },
     "execution_count": 37,
     "metadata": {},
     "output_type": "execute_result"
    }
   ],
   "source": [
    "all=soup.find(\"span\",{\"class\":\"badge\"}).text\n",
    "all"
   ]
  },
  {
   "cell_type": "code",
   "execution_count": 38,
   "id": "56dea76f-20db-4f17-a59b-a9598c1cef70",
   "metadata": {},
   "outputs": [
    {
     "data": {
      "text/plain": [
       "str"
      ]
     },
     "execution_count": 38,
     "metadata": {},
     "output_type": "execute_result"
    }
   ],
   "source": [
    "type(all)"
   ]
  },
  {
   "cell_type": "code",
   "execution_count": 30,
   "id": "58a63a8e-b9fd-4ece-af50-fc0a64d5efdc",
   "metadata": {},
   "outputs": [],
   "source": [
    "all=soup.find(\"span\",{\"class\":\"badge\"}).text.replace(\"\\n\",\"\").replace(\" \",\"\")"
   ]
  },
  {
   "cell_type": "code",
   "execution_count": 31,
   "id": "258654e8-73c0-4938-855d-1ab89379b6fa",
   "metadata": {},
   "outputs": [
    {
     "data": {
      "text/plain": [
       "'$2,160,000'"
      ]
     },
     "execution_count": 31,
     "metadata": {},
     "output_type": "execute_result"
    }
   ],
   "source": [
    "all"
   ]
  },
  {
   "cell_type": "code",
   "execution_count": 45,
   "id": "19bb352d-dca6-47cd-9a70-7d3ef16bc336",
   "metadata": {},
   "outputs": [
    {
     "data": {
      "text/plain": [
       "[<span class=\"badge rounded-pill text-bg-light bg-digital-dark-gold-light-tint ms-1\">\n",
       " <span class=\"currency\">$</span>2,160,000\n",
       "                                                     </span>,\n",
       " <span class=\"badge rounded-pill text-bg-light bg-digital-dark-gold-light-tint ms-1\">\n",
       " <span class=\"currency\">$</span>1,680,000\n",
       "                                                     </span>,\n",
       " <span class=\"badge rounded-pill text-bg-light bg-digital-dark-gold-light-tint ms-1\">\n",
       " <span class=\"currency\">$</span>750,000\n",
       "                                                     </span>,\n",
       " <span class=\"badge rounded-pill text-bg-light bg-digital-dark-gold-light-tint ms-1\">\n",
       " <span class=\"currency\">$</span>295,000\n",
       "                                                     </span>,\n",
       " <span class=\"badge rounded-pill text-bg-light bg-digital-dark-gold-light-tint ms-1\">\n",
       " <span class=\"currency\">$</span>449,900\n",
       "                                                     </span>]"
      ]
     },
     "execution_count": 45,
     "metadata": {},
     "output_type": "execute_result"
    }
   ],
   "source": [
    "soup=BeautifulSoup(c,\"html.parser\")\n",
    "#print(soup.prettify())\n",
    "all=soup.find_all(\"span\",{\"class\":\"badge\"})\n",
    "#all=soup.find(\"span\",{\"class\":\"badge\"}).text.replace(\"\\n\",\"\").replace(\" \",\"\")\n",
    "all"
   ]
  },
  {
   "cell_type": "code",
   "execution_count": 56,
   "id": "3f26c156-627a-489f-ad77-3f2c0f755062",
   "metadata": {},
   "outputs": [
    {
     "name": "stdout",
     "output_type": "stream",
     "text": [
      "2,160,000\n",
      "1,680,000\n",
      "750,000\n",
      "295,000\n",
      "449,900\n"
     ]
    }
   ],
   "source": [
    "for item in all:\n",
    "    currency_value = item.find(\"span\", {\"class\": \"currency\"})\n",
    "    if currency_value:\n",
    "        print(item.text.replace(\"\\n\", \"\").replace(\" \", \"\").replace(currency_value.text, \"\"))\n",
    "    "
   ]
  },
  {
   "cell_type": "code",
   "execution_count": 10,
   "id": "0e99f574-5514-4061-a9fc-a411b1275989",
   "metadata": {},
   "outputs": [
    {
     "name": "stdout",
     "output_type": "stream",
     "text": [
      "2,160,000\n",
      "RockSprings,WY82901\n",
      "1,680,000\n",
      "RockSprings,WY82901\n",
      "750,000\n",
      "RockSprings,WY82901\n",
      "295,000\n",
      "RockSprings,WY82901\n",
      "449,900\n",
      "RockSprings,WY82901\n"
     ]
    }
   ],
   "source": [
    "#\n",
    "all_else = soup.find_all(\"div\", {\"class\": \"col\"})\n",
    "\n",
    "for item in all_else:\n",
    "    price = None\n",
    "    currency_value = item.find(\"span\", {\"class\": \"currency\"})\n",
    "    if currency_value:\n",
    "        price = item.find(\"span\", {\"class\": \"badge\"}).text.replace(\"\\n\", \"\").replace(\" \", \"\").replace(currency_value.text, \"\")\n",
    "        \n",
    "    location_values = item.find_all(\"span\", {\"class\": \"property-location\"})\n",
    "    \n",
    "    for location in location_values:\n",
    "        location_text = location.text.replace(\"\\n\", \"\").replace(\" \", \"\")\n",
    "        \n",
    "        if price:\n",
    "            print(price)\n",
    "        print(location_text)\n"
   ]
  },
  {
   "cell_type": "code",
   "execution_count": 32,
   "id": "242c8228-d982-41c3-88b1-005049383b1d",
   "metadata": {},
   "outputs": [
    {
     "name": "stdout",
     "output_type": "stream",
     "text": [
      "EGATEWAYBoulevard\n",
      "Acreage: 10.05 acres\n",
      "2,160,000\n",
      "RockSprings,WY82901\n",
      "\n",
      "\n",
      "WGATEWAYBoulevard\n",
      "Acreage: 6.9 acres\n",
      "1,680,000\n",
      "RockSprings,WY82901\n",
      "\n",
      "\n",
      "2000CHURCHILLStreet\n",
      "Acreage: 3.03 acres\n",
      "750,000\n",
      "RockSprings,WY82901\n",
      "\n",
      "\n",
      "TbdYELLOWSTONERD.\n",
      "Acreage: 20 acres\n",
      "295,000\n",
      "RockSprings,WY82901\n",
      "\n",
      "\n",
      "817WindriverDrive\n",
      "449,900\n",
      "RockSprings,WY82901\n",
      "\n",
      "\n"
     ]
    }
   ],
   "source": [
    "all_else = soup.find_all(\"div\", {\"class\": \"col\"})\n",
    "\n",
    "for item in all_else:\n",
    "    price = None\n",
    "    currency_value = item.find(\"span\", {\"class\": \"currency\"})\n",
    "    if currency_value:\n",
    "        price = item.find(\"span\", {\"class\": \"badge\"}).text.replace(\"\\n\", \"\").replace(\" \", \"\").replace(currency_value.text, \"\")\n",
    "        \n",
    "    location_values = item.find_all(\"span\", {\"class\": \"property-location\"})\n",
    "    \n",
    "    for location in location_values:\n",
    "        location_text = location.text.replace(\"\\n\", \"\").replace(\" \", \"\")\n",
    "        \n",
    "        # Extract the street address from the <strong> tag within <p class=\"property-address\">\n",
    "        address_tag = item.find(\"p\", {\"class\": \"property-address\"})\n",
    "        if address_tag:\n",
    "            street_address = address_tag.find(\"strong\").text.replace(\"\\n\", \"\").replace(\" \", \"\")\n",
    "            print(street_address)\n",
    "        \n",
    "        # Extract the acreage information\n",
    "        acreage_tag = item.find(\"div\", {\"class\": \"property-spec acreage\"})\n",
    "        if acreage_tag:\n",
    "            acreage = acreage_tag.find(\"span\", {\"class\": \"specs-number\"}).text.strip()\n",
    "            print(f\"Acreage: {acreage} acres\")\n",
    "        \n",
    "        if price:\n",
    "            print(price)\n",
    "        print(location_text)\n",
    "        print(\"\\n\")"
   ]
  },
  {
   "cell_type": "code",
   "execution_count": 27,
   "id": "505f58e1-08e2-49de-ad0c-4b7c8011fbd6",
   "metadata": {},
   "outputs": [
    {
     "data": {
      "text/plain": [
       "'\\n$2,160,000\\n                                                    '"
      ]
     },
     "execution_count": 27,
     "metadata": {},
     "output_type": "execute_result"
    }
   ],
   "source": [
    "#if you dont error in the text you need \"try code except: pass\" for example\n",
    "try:\n",
    "    all=soup.find(\"span\",{\"class\":\"badge\"}).text\n",
    "except:\n",
    "    print(\"None\") #change pass\n",
    "all"
   ]
  },
  {
   "cell_type": "code",
   "execution_count": 30,
   "id": "aed120d9-b10c-470b-9806-d9ea180b543d",
   "metadata": {},
   "outputs": [],
   "source": [
    "#search both groups and add text one u other\n",
    "#for column_group in item.find_all(\"div\",{\"class\":\"columnGroup\"}):\n",
    "    #print(column_group)\n",
    "#    for teature_group, feature_name in zip(column_group.fin_al(\"span\",{\"class\":\"featureGroup\"}}),column_group.find_all(\"span\",{\"class\":\"featureName\"})):\n",
    "#        print(feature_group.text,feature_name.text)"
   ]
  },
  {
   "cell_type": "code",
   "execution_count": 44,
   "id": "65b7e3cc-91ac-489b-91fd-aaeb079e5289",
   "metadata": {},
   "outputs": [],
   "source": [
    "all_else = soup.find_all(\"div\", {\"class\": \"col\"})\n",
    "l=[]\n",
    "\n",
    "for item in all_else:\n",
    "    d={}\n",
    "    price = None\n",
    "    currency_value = item.find(\"span\", {\"class\": \"currency\"})\n",
    "    if currency_value:\n",
    "        d[\"price\"] = item.find(\"span\", {\"class\": \"badge\"}).text.replace(\"\\n\", \"\").replace(\" \", \"\").replace(currency_value.text, \"\")\n",
    "        \n",
    "    location_values = item.find_all(\"span\", {\"class\": \"property-location\"})\n",
    "    \n",
    "    for location in location_values:\n",
    "        d[\"location\"] = location.text.replace(\"\\n\", \"\").replace(\" \", \"\")\n",
    "        \n",
    "        # Extract the street address from the <strong> tag within <p class=\"property-address\">\n",
    "        address_tag = item.find(\"p\", {\"class\": \"property-address\"})\n",
    "        if address_tag:\n",
    "            d[\"Street\"] = address_tag.find(\"strong\").text.replace(\"\\n\", \"\").replace(\" \", \"\")\n",
    "        \n",
    "        # Extract the acreage information\n",
    "        acreage_tag = item.find(\"div\", {\"class\": \"property-spec acreage\"})\n",
    "        if acreage_tag:\n",
    "            acreage = acreage_tag.find(\"span\", {\"class\": \"specs-number\"}).text.strip()\n",
    "            d[\"Acres\"] = f\"{acreage} acres\"\n",
    "    l.append(d)\n",
    "#l"
   ]
  },
  {
   "cell_type": "code",
   "execution_count": 39,
   "id": "cda0400a-0ba7-4d46-bfba-305a0192508d",
   "metadata": {},
   "outputs": [],
   "source": [
    "import pandas\n",
    "df=pandas.DataFrame(l)"
   ]
  },
  {
   "cell_type": "code",
   "execution_count": 40,
   "id": "9bf2a71c-9102-42f9-8bc8-8174a68a0fdb",
   "metadata": {},
   "outputs": [
    {
     "data": {
      "text/html": [
       "<div>\n",
       "<style scoped>\n",
       "    .dataframe tbody tr th:only-of-type {\n",
       "        vertical-align: middle;\n",
       "    }\n",
       "\n",
       "    .dataframe tbody tr th {\n",
       "        vertical-align: top;\n",
       "    }\n",
       "\n",
       "    .dataframe thead th {\n",
       "        text-align: right;\n",
       "    }\n",
       "</style>\n",
       "<table border=\"1\" class=\"dataframe\">\n",
       "  <thead>\n",
       "    <tr style=\"text-align: right;\">\n",
       "      <th></th>\n",
       "      <th>price</th>\n",
       "      <th>location</th>\n",
       "      <th>Street</th>\n",
       "      <th>Acres</th>\n",
       "    </tr>\n",
       "  </thead>\n",
       "  <tbody>\n",
       "    <tr>\n",
       "      <th>0</th>\n",
       "      <td>NaN</td>\n",
       "      <td>NaN</td>\n",
       "      <td>NaN</td>\n",
       "      <td>NaN</td>\n",
       "    </tr>\n",
       "    <tr>\n",
       "      <th>1</th>\n",
       "      <td>2,160,000</td>\n",
       "      <td>RockSprings,WY82901</td>\n",
       "      <td>EGATEWAYBoulevard</td>\n",
       "      <td>10.05 acres</td>\n",
       "    </tr>\n",
       "    <tr>\n",
       "      <th>2</th>\n",
       "      <td>1,680,000</td>\n",
       "      <td>RockSprings,WY82901</td>\n",
       "      <td>WGATEWAYBoulevard</td>\n",
       "      <td>6.9 acres</td>\n",
       "    </tr>\n",
       "    <tr>\n",
       "      <th>3</th>\n",
       "      <td>750,000</td>\n",
       "      <td>RockSprings,WY82901</td>\n",
       "      <td>2000CHURCHILLStreet</td>\n",
       "      <td>3.03 acres</td>\n",
       "    </tr>\n",
       "    <tr>\n",
       "      <th>4</th>\n",
       "      <td>295,000</td>\n",
       "      <td>RockSprings,WY82901</td>\n",
       "      <td>TbdYELLOWSTONERD.</td>\n",
       "      <td>20 acres</td>\n",
       "    </tr>\n",
       "    <tr>\n",
       "      <th>5</th>\n",
       "      <td>449,900</td>\n",
       "      <td>RockSprings,WY82901</td>\n",
       "      <td>817WindriverDrive</td>\n",
       "      <td>NaN</td>\n",
       "    </tr>\n",
       "    <tr>\n",
       "      <th>6</th>\n",
       "      <td>NaN</td>\n",
       "      <td>NaN</td>\n",
       "      <td>NaN</td>\n",
       "      <td>NaN</td>\n",
       "    </tr>\n",
       "    <tr>\n",
       "      <th>7</th>\n",
       "      <td>NaN</td>\n",
       "      <td>NaN</td>\n",
       "      <td>NaN</td>\n",
       "      <td>NaN</td>\n",
       "    </tr>\n",
       "  </tbody>\n",
       "</table>\n",
       "</div>"
      ],
      "text/plain": [
       "       price             location               Street        Acres\n",
       "0        NaN                  NaN                  NaN          NaN\n",
       "1  2,160,000  RockSprings,WY82901    EGATEWAYBoulevard  10.05 acres\n",
       "2  1,680,000  RockSprings,WY82901    WGATEWAYBoulevard    6.9 acres\n",
       "3    750,000  RockSprings,WY82901  2000CHURCHILLStreet   3.03 acres\n",
       "4    295,000  RockSprings,WY82901    TbdYELLOWSTONERD.     20 acres\n",
       "5    449,900  RockSprings,WY82901    817WindriverDrive          NaN\n",
       "6        NaN                  NaN                  NaN          NaN\n",
       "7        NaN                  NaN                  NaN          NaN"
      ]
     },
     "execution_count": 40,
     "metadata": {},
     "output_type": "execute_result"
    }
   ],
   "source": [
    "df"
   ]
  },
  {
   "cell_type": "code",
   "execution_count": 45,
   "id": "539fcf56-1b30-49a2-a205-821033aa4a95",
   "metadata": {},
   "outputs": [],
   "source": [
    "df.to_csv(\"Output.csv\")"
   ]
  },
  {
   "cell_type": "code",
   "execution_count": null,
   "id": "9642d46f-4834-4f2f-befd-ce00d0bedc34",
   "metadata": {},
   "outputs": [],
   "source": [
    "l=[]\n",
    "for page in range(0,30,10):\n",
    "    print(\"http: \"+str(page)+\"&subView=searchView.Paginate\")\n",
    "    r=requests.get(\"http: \"+str(page)+\"&subView=searchView.Paginate\")\n",
    "    c=r.json()[\"list\"]\n",
    "    soup=beautifulSoup(c,\"html.parser\")\n",
    "    all = soup.find_all(\"div\",{\"class\":\"propertyRow\"})\n",
    "    all_else = soup.find_all(\"div\", {\"class\": \"col\"})\n",
    "    for item in all_else:\n",
    "        d={}\n",
    "        price = None\n",
    "        currency_value = item.find(\"span\", {\"class\": \"currency\"})\n",
    "        if currency_value:\n",
    "            d[\"price\"] = item.find(\"span\", {\"class\": \"badge\"}).text.replace(\"\\n\", \"\").replace(\" \", \"\").replace(currency_value.text, \"\")\n",
    "            \n",
    "        location_values = item.find_all(\"span\", {\"class\": \"property-location\"})\n",
    "        \n",
    "        for location in location_values:\n",
    "            d[\"location\"] = location.text.replace(\"\\n\", \"\").replace(\" \", \"\")\n",
    "            \n",
    "            # Extract the street address from the <strong> tag within <p class=\"property-address\">\n",
    "            address_tag = item.find(\"p\", {\"class\": \"property-address\"})\n",
    "            if address_tag:\n",
    "                d[\"Street\"] = address_tag.find(\"strong\").text.replace(\"\\n\", \"\").replace(\" \", \"\")\n",
    "            \n",
    "            # Extract the acreage information\n",
    "            acreage_tag = item.find(\"div\", {\"class\": \"property-spec acreage\"})\n",
    "            if acreage_tag:\n",
    "                acreage = acreage_tag.find(\"span\", {\"class\": \"specs-number\"}).text.strip()\n",
    "                d[\"Acres\"] = f\"{acreage} acres\"\n",
    "        l.append(d)\n",
    "#l"
   ]
  },
  {
   "cell_type": "code",
   "execution_count": null,
   "id": "d89402d2-0f24-4d60-b980-354b8bd8dcad",
   "metadata": {},
   "outputs": [],
   "source": [
    "page_nr=soup.find_all(\"a\",{\"class\":\"page\"})[-1].text)\n",
    "print(type(page_nr))\n",
    "for page in range(0,int(page_nr)*10,10):"
   ]
  },
  {
   "cell_type": "code",
   "execution_count": null,
   "id": "c9ec4d24-ab26-4858-9f64-13be042e9cf4",
   "metadata": {},
   "outputs": [],
   "source": []
  }
 ],
 "metadata": {
  "kernelspec": {
   "display_name": "Python 3 (ipykernel)",
   "language": "python",
   "name": "python3"
  },
  "language_info": {
   "codemirror_mode": {
    "name": "ipython",
    "version": 3
   },
   "file_extension": ".py",
   "mimetype": "text/x-python",
   "name": "python",
   "nbconvert_exporter": "python",
   "pygments_lexer": "ipython3",
   "version": "3.13.0"
  }
 },
 "nbformat": 4,
 "nbformat_minor": 5
}
